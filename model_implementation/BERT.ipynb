{
 "cells": [
  {
   "cell_type": "code",
   "execution_count": 2,
   "id": "3368d0f0",
   "metadata": {},
   "outputs": [],
   "source": [
    "import os\n",
    "import random\n",
    "import math\n",
    "import torch\n",
    "from torch import nn\n",
    "from d2l import torch as d2l"
   ]
  },
  {
   "cell_type": "markdown",
   "id": "1119375c",
   "metadata": {},
   "source": [
    "# 一、BERT代码"
   ]
  },
  {
   "cell_type": "markdown",
   "id": "c20493ef",
   "metadata": {},
   "source": [
    "## 1.拼接两个token_list\n",
    "\n",
    "tokens_a和tokens_b都是list(str),其中的str表示token"
   ]
  },
  {
   "cell_type": "code",
   "execution_count": 3,
   "id": "0e151fd7",
   "metadata": {},
   "outputs": [],
   "source": [
    "def get_tokens_and_segments(tokens_a, tokens_b=None):\n",
    "    tokens = ['<cls>'] + tokens_a + ['<sep>']\n",
    "    segments = [0] * (len(tokens_a) + 2)\n",
    "    if tokens_b is not None:\n",
    "        tokens += tokens_b + ['<sep>']\n",
    "        segments += [1] * (len(tokens_b) + 1)\n",
    "    return tokens, segments"
   ]
  },
  {
   "cell_type": "code",
   "execution_count": 4,
   "id": "c0da4b18",
   "metadata": {},
   "outputs": [
    {
     "data": {
      "text/plain": [
       "(['<cls>',\n",
       "  'how',\n",
       "  'are',\n",
       "  'you',\n",
       "  '?',\n",
       "  '<sep>',\n",
       "  'I',\n",
       "  'am',\n",
       "  'fine',\n",
       "  'thanks',\n",
       "  '<sep>'],\n",
       " [0, 0, 0, 0, 0, 0, 1, 1, 1, 1, 1])"
      ]
     },
     "execution_count": 4,
     "metadata": {},
     "output_type": "execute_result"
    }
   ],
   "source": [
    "tokens_a = [\"how\", \"are\", \"you\",\"?\"]\n",
    "tokens_b = [\"I\", \"am\", \"fine\",\"thanks\"]\n",
    "\n",
    "get_tokens_and_segments(tokens_a, tokens_b)\n"
   ]
  },
  {
   "cell_type": "markdown",
   "id": "3b594a8c",
   "metadata": {},
   "source": [
    "## 2.BERTEncoder"
   ]
  },
  {
   "cell_type": "markdown",
   "id": "7c622152",
   "metadata": {},
   "source": [
    "    与之前实现的TransformerEncoder相比：\n",
    "        \n",
    "        1.初始化多了segment_embeddding，用于嵌入forward方法中传入的segments(segments的形状与tokens的形状一样都是B x L)\n",
    "        2.forward方法多了segments，与上面呼应\n",
    "        3.EncoderBlock还是一样的，输入一样是X，只不过这个X不光混合了位置信息，还混合了分句信息（segments的嵌入\n",
    "        4.pos_embedding不用专门定制了，而是只有一个torch.randn(1, max_len, num_hiddens)，让模型自己学\n",
    "        "
   ]
  },
  {
   "cell_type": "code",
   "execution_count": 38,
   "id": "a71fed46",
   "metadata": {},
   "outputs": [],
   "source": [
    "class BERTEncoder(nn.Module):\n",
    "    def __init__(self, vocab_size, num_hiddens, norm_shape, ffn_num_inputs, ffn_num_hiddens, \n",
    "                 num_heads, num_layers, dropout, max_len=1000, \n",
    "                 key_size=768, query_size=768, value_size=768, **kwargs):\n",
    "        super(BERTEncoder, self).__init__(**kwargs)\n",
    "        self.token_embedding = nn.Embedding(vocab_size, num_hiddens)\n",
    "        # segments的输入形状是： B x L  ，但是它只有0和1两个值，所以转化为one-hot也就只有 B x L x 2\n",
    "        self.segment_embedding = nn.Embedding(2, num_hiddens)\n",
    "        self.blks = nn.Sequential()\n",
    "        for i in range(num_layers):\n",
    "            self.blks.add_module(f\"{i}\", d2l.TransformerEncoderBlock(\n",
    "                key_size, query_size, value_size, num_hiddens, norm_shape,\n",
    "                ffn_num_input, ffn_num_hiddens, num_heads, dropout, True))\n",
    "        # 没有位置编码了，让模型自己学\n",
    "        self.pos_embedding = nn.Parameter(torch.randn(1, max_len, num_hiddens))\n",
    "    def forward(self, tokens, segments, valid_lens):\n",
    "        # 将位置的embedding加进去，让模型自己发掘吧\n",
    "        X  = self.token_embedding(tokens) + self.segment_embedding(segments)\n",
    "        # 位置编码也嵌入\n",
    "        X = X + self.pos_embedding.data[:, :X.shape[1], :]\n",
    "        for blk in self.blks:\n",
    "            X = blk(X, valid_lens)\n",
    "        return X"
   ]
  },
  {
   "cell_type": "markdown",
   "id": "92bf89bf",
   "metadata": {},
   "source": [
    "## 3.MaskLM\n",
    "    \n",
    "    用于maskedLM任务\n",
    "    \n",
    "    输入的X是BertEnocder的输出 Encoder_X"
   ]
  },
  {
   "cell_type": "code",
   "execution_count": 23,
   "id": "e9b85041",
   "metadata": {},
   "outputs": [],
   "source": [
    "class MaskLM(nn.Module):\n",
    "    def __init__(self, vocab_size, num_hiddens, num_inputs=768, **kwargs):\n",
    "        super(MaskLM, self).__init__(**kwargs)\n",
    "        self.mlp = nn.Sequential(nn.Linear(num_inputs, num_hiddens),\n",
    "                                 nn.Relu(),\n",
    "                                 nn.LayerNorm(num_hiddens),\n",
    "                                 nn.Linear(num_hiddens, vocab_size))\n",
    "        def forward(self, X, pred_positions):\n",
    "            \"\"\"\n",
    "                X: B x L x num_hiddens\n",
    "                pred_position: B x num_pred_positions\n",
    "            \"\"\"\n",
    "            num_pred_positions = pred_positionas.shape[1]\n",
    "            pred_positions = pred_positions.reshape(-1)\n",
    "            # batch_idx\n",
    "            batch_size = X.shape[0]\n",
    "            batch_idx = torch.arange(0, batch_size)\n",
    "            batch_idx = torch.repeat_interleave(batch_idx, num_pred_positions)\n",
    "            # masked_X\n",
    "            masked_X = X[batch_idx, pred_positions] # (B x num_pred_positions) x num_hiddens\n",
    "            masked_X = masked_X.reshape((batch_size, num_pred_positions, -1)) # B x num_pred_positions x num_hiddens\n",
    "            mlm_Y_hat = self.mlp(masked_X)"
   ]
  },
  {
   "cell_type": "markdown",
   "id": "bfdce99c",
   "metadata": {},
   "source": [
    "## 4.NextSentencePred\n",
    "\n",
    "    输入是BertEncoder的[<CLS>]的输出  B x 1 x num_hiddens"
   ]
  },
  {
   "cell_type": "code",
   "execution_count": 24,
   "id": "c55a556a",
   "metadata": {},
   "outputs": [],
   "source": [
    "class NextSentencePred(nn.Module):\n",
    "    def __init__(self, num_inputs, **kwargs):\n",
    "        super(NextSentencePred, self).__init__(**kwargs)\n",
    "        self.output = nn.Linear(num_inputs, 2)\n",
    "        \n",
    "    def forward(self, X):\n",
    "        return self.output(X)"
   ]
  },
  {
   "cell_type": "markdown",
   "id": "a5cb562f",
   "metadata": {},
   "source": [
    "## 5.整合代码 → BERTModel"
   ]
  },
  {
   "cell_type": "code",
   "execution_count": 25,
   "id": "dea4308d",
   "metadata": {},
   "outputs": [],
   "source": [
    "class BERTModel(nn.Module):\n",
    "    def __init__(self, vocab_size, num_hiddens, norm_shape, ffn_num_input, ffn_num_hiddens, \n",
    "                 num_heads, num_layers, dropout, max_len = 1000, \n",
    "                 key_size=768, query_size=768, value_size=768, hid_in_features=768, mlm_in_features=768, nsp_in_features=768):\n",
    "        super(BERTModel, self).__init__()\n",
    "        self.encoder = BERTEncoder(vocab_size, num_hiddens, norm_shape,\n",
    "                                  ffn_num_input, ffn_num_hiddens, num_heads, num_layers,\n",
    "                                  dropout, max_len=max_len, key_size=key_size,\n",
    "                                  query_size=query_size, value_size=value_size)\n",
    "        self.hidden = nn.Sequential(nn.Linear(hid_in_features, num_hiddens), nn.Tanh())\n",
    "        self.mlm = MaskLM(vocab_size, num_hiddens, mlm_in_features)\n",
    "        self.nsp = NextSentencePred(nsp_in_features)\n",
    "    def forward(self, tokens, segments, valid_lens=None, pred_positions=None):\n",
    "        encoded_X = self.encoder(tokens, segments, valid_lens)\n",
    "        if(pred_positions is not None):\n",
    "            mlm_Y_hat =self.mlm(encoded_X, pred_positions)\n",
    "        else:\n",
    "            mlm_Y_hat = None\n",
    "        # 所以cls的嵌入表示也不是直接丢给最后nsp的分类层的，而是先经过一个隐藏层处理\n",
    "        nsp_Y_hat = self.nsp(self.hidden(encode_X[:, 0, :]))\n",
    "        return encoded_X, mlm_Y_hat, nsp_Y_hat       "
   ]
  },
  {
   "cell_type": "markdown",
   "id": "860a7364",
   "metadata": {},
   "source": [
    "# 二、BERT预训练数据的处理\n"
   ]
  },
  {
   "cell_type": "code",
   "execution_count": 26,
   "id": "3fbc8789",
   "metadata": {},
   "outputs": [],
   "source": [
    "d2l.DATA_HUB['wikitext-2'] = (\n",
    "    'https://s3.amazonaws.com/research.metamind.io/wikitext/'\n",
    "    'wikitext-2-v1.zip', '3c914d17d80b1459be871a5039ac23e752a53cbe')\n",
    "\n",
    "def _read_wiki(data_dir):\n",
    "    file_name = os.path.join(data_dir, 'wiki.train.tokens')\n",
    "    with open(file_name, 'r', encoding='utf-8') as f:\n",
    "        lines = f.readlines()\n",
    "    \n",
    "    paragraphs = [line.strip().lower().split(' . ') for line in lines if len(line.split(' . ')) >= 2]\n",
    "    random.shuffle(paragraphs)\n",
    "    return paragraphs"
   ]
  },
  {
   "cell_type": "code",
   "execution_count": 27,
   "id": "7654b284",
   "metadata": {},
   "outputs": [],
   "source": [
    "def _get_next_sentence(sentence, next_sentence, paragraphs):\n",
    "    if random.random() < 0.5:\n",
    "        is_next = True\n",
    "    else:\n",
    "        next_sentence = random.choice(random.choice(paragraphs))\n",
    "        is_next = False\n",
    "    return sentence, next_sentence, is_next"
   ]
  },
  {
   "cell_type": "code",
   "execution_count": 28,
   "id": "67f11752",
   "metadata": {},
   "outputs": [],
   "source": [
    "# paragraph二维，表示一个段落中的所有句子，每一个句子都是包含所有单词字符串的list(str)\n",
    "# paragraphs三维，表示多个段落\n",
    "def _get_nsp_data_from_paragraph(paragraph, paragraphs, vocab, max_len):\n",
    "    nsp_data_from_paragraph = []\n",
    "    for i in range(len(paragraph) - 1):\n",
    "        tokens_a, tokens_b, is_next = _get_next_sentence(\n",
    "            paragraph[i], paragraph[i+1], paragraphs)\n",
    "        # 考虑1个'<cls>'词元和2个'<sep>'词元\n",
    "        if len(tokens_a)+len(tokens_b)+3 > max_len:\n",
    "            continue\n",
    "        tokens, segments = get_tokens_and_segments(tokens_a, tokens_b)\n",
    "        nsp_data_from_paragraph.append((tokens, segments, is_next))\n",
    "    return nsp_data_from_paragraph"
   ]
  },
  {
   "cell_type": "markdown",
   "id": "c49649d1",
   "metadata": {},
   "source": [
    "输入的tokens是一句话（事实上是拼接起来的两句话）的tokens,\n",
    "candidate_pred_positions也是一维的，长度可能大于num_mlm_preds(是的，除了'<cls>', '<sep>'的index都放进来了\n",
    "vocab用于随机填充一个字符"
   ]
  },
  {
   "cell_type": "code",
   "execution_count": 29,
   "id": "1641e44f",
   "metadata": {},
   "outputs": [],
   "source": [
    "def _replace_mlm_tokens(tokens, candidate_pred_positions, num_mlm_preds, vocab):\n",
    "    # 新的词元副本，其中输入可能包含替换的<mask>或者随机词元\n",
    "    mlm_input_tokens = [token for token in tokens]\n",
    "    pred_positions_and_labels = []\n",
    "    # 打乱后用于在mlm模型任务中获取15%的随即词元进行谡\n",
    "    random.shuffle(candidate_pred_positions)\n",
    "    for mlm_pred_position in candidate_pred_positions:\n",
    "        if len(pred_positions_and_labels) >= num_mlm_preds:\n",
    "            break\n",
    "        masked_token = None\n",
    "        if random.random() < 0.8:\n",
    "            masked_token = '<mask>'\n",
    "        else:\n",
    "            if random.random() < 0.5:\n",
    "                masked_token = tokens[mlm_pred_position]\n",
    "            else:\n",
    "                masked_token = random.choice(vocab.idx_to_token)\n",
    "        mlm_input_tokens[mlm_pred_position] = masked_token\n",
    "        pred_positions_and_labels.append((mlm_pred_position, tokens[mlm_pred_position]))\n",
    "    return mlm_input_tokens, pred_positions_and_labels"
   ]
  },
  {
   "cell_type": "code",
   "execution_count": 30,
   "id": "5c0c2728",
   "metadata": {},
   "outputs": [],
   "source": [
    "# tokens仍然是一句话的tokens\n",
    "# 返回被mask住的tokens的digits, mask的位置， mask位置处的真实标签的digits\n",
    "def _get_mlm_data_from_tokens(tokens, vocab):\n",
    "    candidate_pred_positions = []\n",
    "    # 筛选出candidate_pred_positions\n",
    "    for i, token in enumerate(tokens):\n",
    "        if token in ['<cls>', '<sep>']:\n",
    "            continue\n",
    "        candidate_pred_positions.append(i)\n",
    "    # \n",
    "    num_mlm_preds = max(1, round(len(tokens) * 0.15))\n",
    "    mlm_input_tokens, pred_positions_and_labels = _replace_mlm_tokens(\n",
    "        tokens, candidate_pred_positions, num_mlm_preds, vocab)\n",
    "    pred_positions_and_labels = sorted(pred_positions_and_labels, key=lambda x:x[0])\n",
    "    pred_positions = [v[0] for v in pred_positions_and_labels]\n",
    "    mlm_pred_labels = [v[1] for v in pred_positions_and_labels]\n",
    "    \n",
    "    return vocab[mlm_input_tokens], pred_positions, vocab[mlm_pred_labels]"
   ]
  },
  {
   "cell_type": "markdown",
   "id": "af9c6038",
   "metadata": {},
   "source": [
    "用_get_nsp_data_from_paragraph和_get_mlm_data_from_tokens的输出合并为examples\n",
    "\n",
    "倒数第二个辅助函数了，下一步就是构建Datasets类"
   ]
  },
  {
   "cell_type": "code",
   "execution_count": 31,
   "id": "f7312b46",
   "metadata": {},
   "outputs": [],
   "source": [
    "def _pad_bert_inputs(examples, max_len, vocab):\n",
    "    max_num_mlm_preds = round(max_len * 0.15)\n",
    "    all_token_ids, all_segments, valid_lens = [], [], []\n",
    "    all_pred_positions, all_mlm_weights, all_mlm_labels = [], [], []\n",
    "    nsp_labels = []\n",
    "    for (token_ids, pred_positions, mlm_pred_label_ids, segments, is_next) in examples:\n",
    "        all_token_ids.append(torch.tensor(token_ids + [vocab['<pad>']] * (max_len - len(token_ids))))\n",
    "        all_segments.append(torch.tensor(segments + [0] * (max_len - len(segments)), dtype=torch.long))\n",
    "        # valid_len不包括<pad>的计数\n",
    "        valid_lens.append(torch.tensor(len(token_ids), dtype=torch.float32))\n",
    "        all_pred_positions.append(torch.tensor(pred_positions + [0]*(max_num_mlm_preds - len(pred_positions)), dtype=torch.long))\n",
    "        # 填充词元的预测将通过乘以0权重在损失中过滤掉\n",
    "        all_mlm_weights.append(\n",
    "            torch.tensor([1.0] * len(mlm_pred_label_ids) + [0.0] * (max_num_mlm_preds - len(pred_positions)), dtype=torch.float32))\n",
    "        all_mlm_labels.append(\n",
    "            torch.tensor(mlm_pred_label_ids + [0] * (max_num_mlm_preds - len(mlm_pred_label_ids)),dtype=torch.long))\n",
    "        nsp_labels.append(torch.tensor(is_next, dtype=torch.long))\n",
    "    return (all_token_ids, all_segments, valid_lens, all_pred_positions,\n",
    "            all_mlm_weights, all_mlm_labels, nsp_labels)"
   ]
  },
  {
   "cell_type": "code",
   "execution_count": 32,
   "id": "e288c58f",
   "metadata": {},
   "outputs": [],
   "source": [
    "class _WikiTextDataset(torch.utils.data.Dataset):\n",
    "    def __init__(self, paragraphs, max_len):\n",
    "        # 输入paragraphs[i]是代表段落的句子字符串列表；\n",
    "        # 而输出paragraphs[i]是代表段落的句子列表，其中每个句子都是词元列表\n",
    "        # 输入的paragraphs是经过_read_wiki输出的二维list，base elements是代表一个句子的字符串\n",
    "        # 输出的paragraphs是处理过的三维list,其中的每一个elements是代表一个单词的字符串\n",
    "        paragraphs = [d2l.tokenize(\n",
    "            paragraph, token='word') for paragraph in paragraphs]\n",
    "        # sentences是把三维的paragraphs拉成二维的，所有段落的句子都在这里面.用于构建Vocab\n",
    "        sentences = [sentence for paragraph in paragraphs for sentence in paragraph]\n",
    "        \n",
    "        self.vocab = d2l.Vocab(sentences, min_freq=5, \n",
    "                               reserved_tokens=['<pad>', '<mask>',  '<cls>',  '<sep>'])\n",
    "        # 获取下一句子预测任务的数据\n",
    "        examples = []\n",
    "        for paragraph in paragraphs:\n",
    "            # 注意append和extends方法的区别\n",
    "            # 添加过后，examples中的基本元素是(tokens, segments, is_next)三元组\n",
    "            examples.extend(_get_nsp_data_from_paragraph(\n",
    "                paragraph, paragraphs, self.vocab, max_len))\n",
    "        # 获取mlm任务的数据\n",
    "        # examples中的基本元素为 (token_ids, pred_positions, mlm_pred_label_ids, segments, is_next)五元组\n",
    "        examples = [(_get_mlm_data_from_tokens(tokens, self.vocab) + (segments, is_next))\n",
    "                    for tokens, segments, is_next in examples]\n",
    "        \n",
    "        # 根据max_len填充输入\n",
    "        (self.all_token_ids, self.all_segments, self.valid_lens,\n",
    "         self.all_pred_positions, self.all_mlm_weights,\n",
    "         self.all_mlm_labels, self.nsp_labels) = _pad_bert_inputs(\n",
    "            examples, max_len, self.vocab)\n",
    "        \n",
    "    def __getitem__(self, idx):\n",
    "        return (self.all_token_ids[idx], self.all_segments[idx],\n",
    "                self.valid_lens[idx], self.all_pred_positions[idx],\n",
    "                self.all_mlm_weights[idx], self.all_mlm_labels[idx],\n",
    "                self.nsp_labels[idx])\n",
    "    \n",
    "    def __len__(self):\n",
    "        return len(self.all_token_ids)"
   ]
  },
  {
   "cell_type": "markdown",
   "id": "2c691c97",
   "metadata": {},
   "source": [
    "综合起来"
   ]
  },
  {
   "cell_type": "code",
   "execution_count": 33,
   "id": "1f1e4dc6",
   "metadata": {},
   "outputs": [],
   "source": [
    "def load_data_wiki(batch_size, max_len):\n",
    "    \n",
    "    num_workers = d2l.get_dataloader_workers()\n",
    "    data_dir = d2l.download_extract('wikitext-2', 'wikitext-2')\n",
    "    paragraphs = _read_wiki(data_dir)\n",
    "    train_set = _WikiTextDataset(paragraphs, max_len)\n",
    "    train_iter = torch.utils.data.DataLoader(train_set, batch_size, shuffle=True, num_workers=num_workers)\n",
    "    return train_iter, train_set.vocab"
   ]
  },
  {
   "cell_type": "markdown",
   "id": "7c8aae5b",
   "metadata": {},
   "source": [
    "## 三、BERT预训练代码"
   ]
  },
  {
   "cell_type": "code",
   "execution_count": 34,
   "id": "9f6c82f8",
   "metadata": {},
   "outputs": [],
   "source": [
    "os.environ['http_proxy'] = 'http://127.0.0.1:33210'\n",
    "os.environ['https_proxy'] = 'http://127.0.0.1:33210'\n",
    "os.environ['all_proxy'] = 'socks5://127.0.0.1:33211'"
   ]
  },
  {
   "cell_type": "code",
   "execution_count": 18,
   "id": "ad452c5a",
   "metadata": {
    "scrolled": true
   },
   "outputs": [],
   "source": [
    "batch_size, max_len = 512, 64\n",
    "train_iter, vocab = load_data_wiki(batch_size, max_len)"
   ]
  },
  {
   "cell_type": "code",
   "execution_count": 42,
   "id": "39c604e8",
   "metadata": {},
   "outputs": [],
   "source": [
    "net = BERTModel(len(vocab), num_hiddens=128, norm_shape=[128],\n",
    "                ffn_num_input=128, ffn_num_hiddens=256, num_heads=2,\n",
    "                num_layers=2, dropout=0.2, key_size=128, query_size=128, value_size=128,\n",
    "                hid_in_features=128, mlm_in_features=128, nsp_in_features=128)\n",
    "devices = d2l.try_all_gpus\n",
    "loss = nn.CrossEntropyLoss()"
   ]
  },
  {
   "cell_type": "code",
   "execution_count": 43,
   "id": "8f68568c",
   "metadata": {},
   "outputs": [],
   "source": [
    "def _get_batch_loss_bert(net, loss, vocab_size,\n",
    "                          tokens_X, segments_X, valid_lens_X,\n",
    "                          pred_positions_X, mlm_weights_X, mlm_Y, nsp_y):\n",
    "    # 前向传播\n",
    "    _, mlm_Y_hat, nsp_Y_hat = net(tokens_X, segments_X, valid_lens_x.reshape(-1), pred_positions_X)\n",
    "    \n",
    "    # 计算mlm损失\n",
    "    mlm_l = loss(mlm_Y_hat.reshape(-1, vocab_size), mlm_Y.reshape(-1)) * mlm_weights_X.reshape(-1, 1)\n",
    "    mlm_l = mlm_l.sum() / (mlm_weights_X.sum() + 1e-8)\n",
    "    \n",
    "    # 计算nsp损失\n",
    "    nsp_l = loss(nsp_Y_hat, nsp_y)\n",
    "    l = mlm_l + nsp_l\n",
    "    return mlm_l, nsp_l, l"
   ]
  },
  {
   "cell_type": "code",
   "execution_count": null,
   "id": "86c2cd23",
   "metadata": {},
   "outputs": [],
   "source": [
    "def train_bert(train_iter, net, loss, vocab_size, devices, num_steps):\n",
    "    net = nn.DataParallel(net, device_ids=devices).to(devices[0])\n",
    "    trainer = torch.optim.Adam(net.parameters(), lr=0.01)\n",
    "    step, timer = 0, d2l.Timer()\n",
    "    animator = d2l.Animator(xlabel='step', ylabel='loss',\n",
    "                            xlim=[1, num_steps], legend=['mlm', 'nsp'])\n",
    "    # 遮蔽语言模型损失的和，下一句预测任务损失的和，句子对的数量，计数\n",
    "    metric = d2l.Accumulator(4)\n",
    "    num_steps_reached = False\n",
    "    while step < num_steps and not num_steps_reached:\n",
    "        for tokens_X, segments_X, valid_lens_x, pred_positions_X,\\\n",
    "            mlm_weights_X, mlm_Y, nsp_y in train_iter:\n",
    "            tokens_X = tokens_X.to(devices[0])\n",
    "            segments_X = segments_X.to(devices[0])\n",
    "            valid_lens_x = valid_lens_x.to(devices[0])\n",
    "            pred_positions_X = pred_positions_X.to(devices[0])\n",
    "            mlm_weights_X = mlm_weights_X.to(devices[0])\n",
    "            mlm_Y, nsp_y = mlm_Y.to(devices[0]), nsp_y.to(devices[0])\n",
    "            trainer.zero_grad()\n",
    "            timer.start()\n",
    "            mlm_l, nsp_l, l = _get_batch_loss_bert(\n",
    "                net, loss, vocab_size, tokens_X, segments_X, valid_lens_x,\n",
    "                pred_positions_X, mlm_weights_X, mlm_Y, nsp_y)\n",
    "            l.backward()\n",
    "            trainer.step()\n",
    "            metric.add(mlm_l, nsp_l, tokens_X.shape[0], 1)\n",
    "            timer.stop()\n",
    "            animator.add(step + 1,\n",
    "                         (metric[0] / metric[3], metric[1] / metric[3]))\n",
    "            step += 1\n",
    "            if step == num_steps:\n",
    "                num_steps_reached = True\n",
    "                break\n",
    "\n",
    "    print(f'MLM loss {metric[0] / metric[3]:.3f}, '\n",
    "          f'NSP loss {metric[1] / metric[3]:.3f}')\n",
    "    print(f'{metric[2] / timer.sum():.1f} sentence pairs/sec on '\n",
    "          f'{str(devices)}')"
   ]
  },
  {
   "cell_type": "markdown",
   "id": "79b6bf4a",
   "metadata": {},
   "source": [
    "   # 用BERT模型表示文本"
   ]
  },
  {
   "cell_type": "code",
   "execution_count": 44,
   "id": "557bda55",
   "metadata": {},
   "outputs": [],
   "source": [
    "def get_bert_encoding(net, tokens_a, tokens_b=None):\n",
    "    tokens, segments = d2l.get_tokens_and_segments(tokens_a, tokens_b)\n",
    "    token_ids = torch.tensor(vocab[tokens], device=devices[0]).unsqueeze(0)\n",
    "    segments = torch.tensor(segments, device=devices[0]).unsqueeze(0)\n",
    "    valid_len = torch.tensor(len(tokens), device=devices[0]).unsqueeze(0)\n",
    "    encoded_X, _, _ = net(token_ids, segments, valid_len)\n",
    "    return encoded_X"
   ]
  },
  {
   "cell_type": "code",
   "execution_count": null,
   "id": "bf67e946",
   "metadata": {},
   "outputs": [],
   "source": []
  }
 ],
 "metadata": {
  "kernelspec": {
   "display_name": "huggingface",
   "language": "python",
   "name": "huggingface"
  },
  "language_info": {
   "codemirror_mode": {
    "name": "ipython",
    "version": 3
   },
   "file_extension": ".py",
   "mimetype": "text/x-python",
   "name": "python",
   "nbconvert_exporter": "python",
   "pygments_lexer": "ipython3",
   "version": "3.8.17"
  }
 },
 "nbformat": 4,
 "nbformat_minor": 5
}
